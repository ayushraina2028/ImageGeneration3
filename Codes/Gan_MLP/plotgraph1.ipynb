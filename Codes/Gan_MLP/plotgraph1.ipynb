{
 "cells": [
  {
   "cell_type": "code",
   "execution_count": 1,
   "metadata": {},
   "outputs": [],
   "source": [
    "import pandas as pd  \n"
   ]
  },
  {
   "cell_type": "code",
   "execution_count": 6,
   "metadata": {},
   "outputs": [],
   "source": [
    "import matplotlib.pyplot as plt\n",
    "import csv\n",
    "\n",
    "# Lists to store the loaded loss values\n",
    "d_losses = []\n",
    "g_losses = []\n",
    "\n",
    "# Read the loss values from the CSV file\n",
    "with open('losses.csv', 'r') as file:\n",
    "    reader = csv.reader(file)\n",
    "    next(reader)  # Skip the header row if there is one\n",
    "    for row in reader:\n",
    "        try:\n",
    "            d_loss = float(row[0])\n",
    "            g_loss = float(row[1])\n",
    "            d_losses.append(d_loss)\n",
    "            g_losses.append(g_loss)\n",
    "        except ValueError:\n",
    "            # Handle the case where conversion to float fails\n",
    "            print(f\"Warning: Could not convert row to float: {row}\")\n",
    "\n",
    "# Plotting the loss values\n",
    "plt.figure(figsize=(10, 5))\n",
    "plt.plot(d_losses, label='Discriminator Loss')\n",
    "plt.plot(g_losses, label='Generator Loss')\n",
    "plt.xlabel('Iterations')\n",
    "plt.ylabel('Loss')\n",
    "plt.title('Training Losses')\n",
    "plt.legend()\n",
    "\n",
    "# Save the plot to a file without displaying it\n",
    "plt.savefig('training_losses.png')\n",
    "plt.close()\n"
   ]
  },
  {
   "cell_type": "code",
   "execution_count": null,
   "metadata": {},
   "outputs": [],
   "source": []
  }
 ],
 "metadata": {
  "kernelspec": {
   "display_name": "Python 3",
   "language": "python",
   "name": "python3"
  },
  "language_info": {
   "codemirror_mode": {
    "name": "ipython",
    "version": 3
   },
   "file_extension": ".py",
   "mimetype": "text/x-python",
   "name": "python",
   "nbconvert_exporter": "python",
   "pygments_lexer": "ipython3",
   "version": "3.10.12"
  }
 },
 "nbformat": 4,
 "nbformat_minor": 2
}
